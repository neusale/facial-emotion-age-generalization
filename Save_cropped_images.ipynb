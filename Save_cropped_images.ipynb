{
 "cells": [
  {
   "cell_type": "markdown",
   "metadata": {
    "id": "TBPhOBUc4s3z"
   },
   "source": [
    "#1 - Importar bibliotecas"
   ]
  },
  {
   "cell_type": "code",
   "execution_count": 1,
   "metadata": {
    "id": "93HGbj9xlUSb"
   },
   "outputs": [],
   "source": [
    "import math\n",
    "import numpy as np\n",
    "import pandas as pd\n",
    "\n",
    "import glob\n",
    "\n",
    "import cv2\n",
    "import seaborn as sns\n",
    "from matplotlib import pyplot\n",
    "\n",
    "from PIL import Image\n",
    "import gdown"
   ]
  },
  {
   "cell_type": "code",
   "execution_count": 2,
   "metadata": {},
   "outputs": [
    {
     "name": "stderr",
     "output_type": "stream",
     "text": [
      "2025-06-12 18:38:35.778978: I tensorflow/core/util/port.cc:110] oneDNN custom operations are on. You may see slightly different numerical results due to floating-point round-off errors from different computation orders. To turn them off, set the environment variable `TF_ENABLE_ONEDNN_OPTS=0`.\n",
      "2025-06-12 18:38:35.954358: I tensorflow/tsl/cuda/cudart_stub.cc:28] Could not find cuda drivers on your machine, GPU will not be used.\n",
      "2025-06-12 18:38:36.827599: I tensorflow/tsl/cuda/cudart_stub.cc:28] Could not find cuda drivers on your machine, GPU will not be used.\n",
      "2025-06-12 18:38:36.833009: I tensorflow/core/platform/cpu_feature_guard.cc:182] This TensorFlow binary is optimized to use available CPU instructions in performance-critical operations.\n",
      "To enable the following instructions: AVX2 AVX512F AVX512_VNNI FMA, in other operations, rebuild TensorFlow with the appropriate compiler flags.\n",
      "2025-06-12 18:38:38.956677: W tensorflow/compiler/tf2tensorrt/utils/py_utils.cc:38] TF-TRT Warning: Could not find TensorRT\n"
     ]
    }
   ],
   "source": [
    "from global_functions import *"
   ]
  },
  {
   "cell_type": "markdown",
   "metadata": {
    "id": "6SqBbdZo4x0e"
   },
   "source": [
    "#2 - Pré-processamento dos dados"
   ]
  },
  {
   "cell_type": "code",
   "execution_count": 3,
   "metadata": {},
   "outputs": [],
   "source": [
    "#Text to numerical labeling\n",
    "#emotions_labels = {0:'raiva', 1:'aversão', 2:'medo', 3:'alegria', 4: 'tristeza', 5: 'surpresa', 6:'desprezo'}\n",
    "#class_names = ['raiva', 'aversão', 'medo', 'alegria', 'tristeza', 'surpresa', 'desprezo']\n",
    "\n",
    "#Treinar apenas as emoções presentes em todos os datasets (treino e teste)\n",
    "emotions_labels = {0:'raiva',  1:'medo', 2:'alegria', 3: 'tristeza'}\n",
    "class_names = ['raiva', 'medo', 'alegria', 'tristeza']"
   ]
  },
  {
   "cell_type": "code",
   "execution_count": 4,
   "metadata": {},
   "outputs": [
    {
     "name": "stdout",
     "output_type": "stream",
     "text": [
      "4\n"
     ]
    }
   ],
   "source": [
    "img_width = 224\n",
    "img_height = 224\n",
    "img_depth = 3\n",
    "num_classes = len(class_names)\n",
    "print(num_classes)"
   ]
  },
  {
   "cell_type": "markdown",
   "metadata": {
    "id": "s5Exv7hO4_D6"
   },
   "source": [
    "## Save cropped images \n",
    "Images read from <dataset>_<emotion> directories, e.g. CK_Angry (emotion:[Angry, Happy, Sad, Fear])\n",
    "REPEAT THE PROCESS FOR EACH AVAILABLE DATASET"
   ]
  },
  {
   "cell_type": "code",
   "execution_count": null,
   "metadata": {
    "colab": {
     "base_uri": "https://localhost:8080/",
     "height": 224
    },
    "id": "LebqQpK9nlHr",
    "outputId": "7e76b0f9-d135-4729-acea-f1a6875ce718"
   },
   "outputs": [],
   "source": [
    "DATASET = 'NIMH'\n",
    "files_angry = obter_imagens(DATASET+'_Angry', 'png')\n",
    "filesclass_angry = obter_classes(len(files_angry), 0)\n",
    "print(len(files_angry))\n",
    "\n",
    "files_fear = obter_imagens(DATASET+'_Fear', 'png')\n",
    "filesclass_fear = obter_classes(len(files_fear), 1)\n",
    "print(len(files_fear))\n",
    "\n",
    "files_happy = obter_imagens(DATASET+'_Happy', 'png')\n",
    "filesclass_happy = obter_classes(len(files_happy), 2)\n",
    "print(len(files_happy))\n",
    "\n",
    "files_sad = obter_imagens(DATASET+'_Sad', 'png')\n",
    "filesclass_sad = obter_classes(len(files_sad), 3)\n",
    "print(len(files_sad))\n",
    "\n",
    "files = np.concatenate((files_angry, files_fear, files_happy, files_sad), axis=0)\n",
    "files_class = np.concatenate((filesclass_angry, filesclass_fear, filesclass_happy, filesclass_sad), axis=0)\n",
    "print(len(files))\n",
    "print(len(files_class))"
   ]
  },
  {
   "cell_type": "code",
   "execution_count": null,
   "metadata": {},
   "outputs": [],
   "source": [
    "#create directory <DATASET>_<EMOTION>_CROPPED\n",
    "save_cropped_image(files, k=10, size=224, inicio=0, fim=0)"
   ]
  }
 ],
 "metadata": {
  "accelerator": "TPU",
  "colab": {
   "provenance": [],
   "toc_visible": true
  },
  "kernelspec": {
   "display_name": "Python 3 (ipykernel)",
   "language": "python",
   "name": "python3"
  },
  "language_info": {
   "codemirror_mode": {
    "name": "ipython",
    "version": 3
   },
   "file_extension": ".py",
   "mimetype": "text/x-python",
   "name": "python",
   "nbconvert_exporter": "python",
   "pygments_lexer": "ipython3",
   "version": "3.10.12"
  }
 },
 "nbformat": 4,
 "nbformat_minor": 1
}
