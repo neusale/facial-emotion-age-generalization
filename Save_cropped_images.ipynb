{
 "cells": [
  {
   "cell_type": "markdown",
   "metadata": {
    "id": "TBPhOBUc4s3z"
   },
   "source": [
    "#1 - Importar bibliotecas"
   ]
  },
  {
   "cell_type": "code",
   "execution_count": null,
   "metadata": {
    "id": "93HGbj9xlUSb"
   },
   "outputs": [],
   "source": [
    "import math\n",
    "import numpy as np\n",
    "import pandas as pd\n",
    "\n",
    "import glob\n",
    "\n",
    "import cv2\n",
    "import seaborn as sns\n",
    "from matplotlib import pyplot\n",
    "\n",
    "from PIL import Image\n",
    "import gdown"
   ]
  },
  {
   "cell_type": "code",
   "execution_count": null,
   "metadata": {},
   "outputs": [],
   "source": [
    "from global_functions import *"
   ]
  },
  {
   "cell_type": "markdown",
   "metadata": {
    "id": "6SqBbdZo4x0e"
   },
   "source": [
    "#2 - Pré-processamento dos dados"
   ]
  },
  {
   "cell_type": "code",
   "execution_count": null,
   "metadata": {},
   "outputs": [],
   "source": [
    "#Text to numerical labeling\n",
    "#emotions_labels = {0:'raiva', 1:'aversão', 2:'medo', 3:'alegria', 4: 'tristeza', 5: 'surpresa', 6:'desprezo'}\n",
    "#class_names = ['raiva', 'aversão', 'medo', 'alegria', 'tristeza', 'surpresa', 'desprezo']\n",
    "\n",
    "#Treinar apenas as emoções presentes em todos os datasets (treino e teste)\n",
    "emotions_labels = {0:'raiva',  1:'medo', 2:'alegria', 3: 'tristeza'}\n",
    "class_names = ['raiva', 'medo', 'alegria', 'tristeza']"
   ]
  },
  {
   "cell_type": "code",
   "execution_count": null,
   "metadata": {},
   "outputs": [],
   "source": [
    "img_width = 224\n",
    "img_height = 224\n",
    "img_depth = 3\n",
    "num_classes = len(class_names)\n",
    "print(num_classes)"
   ]
  },
  {
   "cell_type": "markdown",
   "metadata": {
    "id": "s5Exv7hO4_D6"
   },
   "source": [
    "## Salvar imagens recortadas (cropped)\n",
    "Imagens lidas a partir dos diretórios <dataset>_<emotion>, por exemplo, CK_Angry (emotion:[Angry, Happy, Sad, Fear])\n",
    "REPETIR O PROCESSO PARA CADA DATASET DISPONÍVEL    "
   ]
  },
  {
   "cell_type": "code",
   "execution_count": null,
   "metadata": {
    "colab": {
     "base_uri": "https://localhost:8080/",
     "height": 224
    },
    "id": "LebqQpK9nlHr",
    "outputId": "7e76b0f9-d135-4729-acea-f1a6875ce718"
   },
   "outputs": [],
   "source": [
    "#emotions_labels = {0:'raiva', 1:'aversão', 2:'medo', 3:'alegria', 4: 'tristeza', 5: 'surpresa', 6: 'desprezo'}\n",
    "DATASET = 'NIMH'\n",
    "files_raiva = obter_imagens(DATASET+'_Angry', 'png')\n",
    "filesclass_raiva = obter_classes(len(files_raiva), 0)\n",
    "print(len(files_raiva))\n",
    "\n",
    "files_medo = obter_imagens(DATASET+'_Fear', 'png')\n",
    "filesclass_medo = obter_classes(len(files_medo), 1)\n",
    "print(len(files_medo))\n",
    "\n",
    "files_alegria = obter_imagens(DATASET+'_Happy', 'png')\n",
    "filesclass_alegria = obter_classes(len(files_alegria), 2)\n",
    "print(len(files_alegria))\n",
    "\n",
    "files_tristeza = obter_imagens(DATASET+'_Sad', 'png')\n",
    "filesclass_tristeza = obter_classes(len(files_tristeza), 3)\n",
    "print(len(files_tristeza))\n",
    "\n",
    "files = np.concatenate((files_raiva, files_medo, files_alegria, files_tristeza), axis=0)\n",
    "files_class = np.concatenate((filesclass_raiva, filesclass_medo, filesclass_alegria, filesclass_tristeza), axis=0)\n",
    "print(len(files))\n",
    "print(len(files_class))"
   ]
  },
  {
   "cell_type": "code",
   "execution_count": null,
   "metadata": {},
   "outputs": [],
   "source": [
    "#CRIA DIRETÓRIO <DATASET>_<EMOTION>_CROPPED\n",
    "save_cropped_image(files, k=10, size=224, inicio=0, fim=0)"
   ]
  }
 ],
 "metadata": {
  "accelerator": "TPU",
  "colab": {
   "provenance": [],
   "toc_visible": true
  },
  "kernelspec": {
   "display_name": "Python 3 (ipykernel)",
   "language": "python",
   "name": "python3"
  },
  "language_info": {
   "codemirror_mode": {
    "name": "ipython",
    "version": 3
   },
   "file_extension": ".py",
   "mimetype": "text/x-python",
   "name": "python",
   "nbconvert_exporter": "python",
   "pygments_lexer": "ipython3",
   "version": "3.10.12"
  }
 },
 "nbformat": 4,
 "nbformat_minor": 1
}
